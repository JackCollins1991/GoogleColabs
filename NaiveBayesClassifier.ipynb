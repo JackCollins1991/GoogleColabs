{
  "nbformat": 4,
  "nbformat_minor": 0,
  "metadata": {
    "colab": {
      "name": "Copy of NaiveBayesClassifier.ipynb",
      "provenance": [],
      "authorship_tag": "ABX9TyOXzUF1fPaanjnV6bNAXvD+",
      "include_colab_link": true
    },
    "kernelspec": {
      "name": "python3",
      "display_name": "Python 3"
    },
    "language_info": {
      "name": "python"
    }
  },
  "cells": [
    {
      "cell_type": "markdown",
      "metadata": {
        "id": "view-in-github",
        "colab_type": "text"
      },
      "source": [
        "<a href=\"https://colab.research.google.com/github/JackCollins1991/GoogleColabs/blob/NaiveBayesClassifer/NaiveBayesClassifier.ipynb\" target=\"_parent\"><img src=\"https://colab.research.google.com/assets/colab-badge.svg\" alt=\"Open In Colab\"/></a>"
      ]
    },
    {
      "cell_type": "code",
      "metadata": {
        "id": "VlmXILwFrd5x"
      },
      "source": [
        "import sklearn as sk\n",
        "import seaborn as sns\n",
        "from sklearn import preprocessing\n",
        "from sklearn.naive_bayes import GaussianNB\n",
        "from sklearn import datasets\n",
        "from sklearn.model_selection import train_test_split\n",
        "from sklearn import metrics"
      ],
      "execution_count": 43,
      "outputs": []
    },
    {
      "cell_type": "code",
      "metadata": {
        "id": "N9a2eLWquCHd"
      },
      "source": [
        "def GaussianNaiveBayes(predictors, dependant, test_portion):\n",
        "  # Split dataset into training set and test set\n",
        "  X_train, X_test, y_train, y_test = train_test_split(predictors, dependant, test_size=test_portion,random_state=109) # 70% training and 30% test\n",
        "\n",
        "  #Create a Gaussian Classifier\n",
        "  gnb = GaussianNB()\n",
        "\n",
        "  #Train the model using the training sets\n",
        "  gnb.fit(X_train, y_train)\n",
        "\n",
        "  #Predict the response for test dataset\n",
        "  y_pred = gnb.predict(X_test)\n",
        "\n",
        "  return gnb"
      ],
      "execution_count": 44,
      "outputs": []
    },
    {
      "cell_type": "code",
      "metadata": {
        "id": "3iL6JxfmyWM_",
        "colab": {
          "base_uri": "https://localhost:8080/"
        },
        "outputId": "ceb921b8-de98-4649-e989-e5006ca8ca1a"
      },
      "source": [
        "# Get data\n",
        "data = sns.load_dataset(\"iris\")\n",
        "predictors = data.select_dtypes(include='number')\n",
        "dependant = data[\"species\"]\n",
        "\n",
        "# Apply model\n",
        "gnb = GaussianNaiveBayes(predictors, dependant, 0.3)\n",
        "\n",
        "# Evaluate\n",
        "print(\"Accuracy: \")\n",
        "gnb.score(predictors, dependant)"
      ],
      "execution_count": 45,
      "outputs": [
        {
          "output_type": "stream",
          "text": [
            "Accuracy: \n"
          ],
          "name": "stdout"
        },
        {
          "output_type": "execute_result",
          "data": {
            "text/plain": [
              "0.96"
            ]
          },
          "metadata": {
            "tags": []
          },
          "execution_count": 45
        }
      ]
    },
    {
      "cell_type": "code",
      "metadata": {
        "id": "sr6JjZY02ruz",
        "outputId": "9b8046c1-d5af-46ff-bb7a-019bb643ba26",
        "colab": {
          "base_uri": "https://localhost:8080/"
        }
      },
      "source": [
        "gnb.theta_"
      ],
      "execution_count": 52,
      "outputs": [
        {
          "output_type": "execute_result",
          "data": {
            "text/plain": [
              "array([[4.97894737, 3.43421053, 1.46315789, 0.24736842],\n",
              "       [5.90909091, 2.76666667, 4.18181818, 1.31515152],\n",
              "       [6.74117647, 2.99117647, 5.68235294, 2.03823529]])"
            ]
          },
          "metadata": {
            "tags": []
          },
          "execution_count": 52
        }
      ]
    },
    {
      "cell_type": "code",
      "metadata": {
        "id": "oyiFVMKV2oUQ",
        "outputId": "0eb07c7d-83ce-4f19-c98f-7d4e181da7e0",
        "colab": {
          "base_uri": "https://localhost:8080/",
          "height": 283
        }
      },
      "source": [
        "sns.heatmap(gnb.theta_)"
      ],
      "execution_count": 55,
      "outputs": [
        {
          "output_type": "execute_result",
          "data": {
            "text/plain": [
              "<matplotlib.axes._subplots.AxesSubplot at 0x7f5bcc65a290>"
            ]
          },
          "metadata": {
            "tags": []
          },
          "execution_count": 55
        },
        {
          "output_type": "display_data",
          "data": {
            "image/png": "[encoded data removed]",
            "text/plain": [
              "<Figure size 432x288 with 2 Axes>"
            ]
          },
          "metadata": {
            "tags": [],
            "needs_background": "light"
          }
        }
      ]
    }
  ]
}