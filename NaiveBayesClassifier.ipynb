{
  "nbformat": 4,
  "nbformat_minor": 0,
  "metadata": {
    "colab": {
      "name": "Copy of NaiveBayesClassifier.ipynb",
      "provenance": [],
      "authorship_tag": "ABX9TyOAuhvvOzzVCQzbVWI1Rt5x",
      "include_colab_link": true
    },
    "kernelspec": {
      "name": "python3",
      "display_name": "Python 3"
    },
    "language_info": {
      "name": "python"
    }
  },
  "cells": [
    {
      "cell_type": "markdown",
      "metadata": {
        "id": "view-in-github",
        "colab_type": "text"
      },
      "source": [
        "<a href=\"https://colab.research.google.com/github/JackCollins1991/GoogleColabs/blob/NaiveBayesClassifer/NaiveBayesClassifier.ipynb\" target=\"_parent\"><img src=\"https://colab.research.google.com/assets/colab-badge.svg\" alt=\"Open In Colab\"/></a>"
      ]
    },
    {
      "cell_type": "code",
      "metadata": {
        "id": "VlmXILwFrd5x"
      },
      "source": [
        "import sklearn as sk\n",
        "import seaborn as sns\n",
        "from sklearn import preprocessing\n",
        "from sklearn.naive_bayes import GaussianNB\n",
        "from sklearn import datasets\n",
        "from sklearn.model_selection import train_test_split\n",
        "from sklearn import metrics"
      ],
      "execution_count": 60,
      "outputs": []
    },
    {
      "cell_type": "code",
      "metadata": {
        "id": "N9a2eLWquCHd"
      },
      "source": [
        "def GaussianNaiveBayes(predictors, dependant, test_portion):\n",
        "  # Split dataset into training set and test set\n",
        "  X_train, X_test, y_train, y_test = train_test_split(predictors, dependant, test_size=test_portion,random_state=109) # 70% training and 30% test\n",
        "\n",
        "  #Create a Gaussian Classifier\n",
        "  gnb = GaussianNB()\n",
        "\n",
        "  #Train the model using the training sets\n",
        "  gnb.fit(X_train, y_train)\n",
        "\n",
        "  #Predict the response for test dataset\n",
        "  y_pred = gnb.predict(X_test)\n",
        "\n",
        "  report = metrics.classification_report(y_test, y_pred)\n",
        "\n",
        "  return gnb, report"
      ],
      "execution_count": 66,
      "outputs": []
    },
    {
      "cell_type": "code",
      "metadata": {
        "id": "3iL6JxfmyWM_",
        "colab": {
          "base_uri": "https://localhost:8080/"
        },
        "outputId": "de60d5e5-edb3-4324-e032-92c10e34c6fb"
      },
      "source": [
        "# Get data\n",
        "data = sns.load_dataset(\"iris\")\n",
        "predictors = data.select_dtypes(include='number')\n",
        "dependant = data[\"species\"]\n",
        "\n",
        "# Apply model\n",
        "gnb, report = GaussianNaiveBayes(predictors, dependant, 0.3)\n",
        "\n",
        "# Evaluate\n",
        "print(report)\n"
      ],
      "execution_count": 67,
      "outputs": [
        {
          "output_type": "stream",
          "text": [
            "              precision    recall  f1-score   support\n",
            "\n",
            "      setosa       1.00      1.00      1.00        12\n",
            "  versicolor       0.94      0.94      0.94        17\n",
            "   virginica       0.94      0.94      0.94        16\n",
            "\n",
            "    accuracy                           0.96        45\n",
            "   macro avg       0.96      0.96      0.96        45\n",
            "weighted avg       0.96      0.96      0.96        45\n",
            "\n"
          ],
          "name": "stdout"
        }
      ]
    }
  ]
}