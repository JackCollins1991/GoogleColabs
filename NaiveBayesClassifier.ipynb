{
  "nbformat": 4,
  "nbformat_minor": 0,
  "metadata": {
    "colab": {
      "name": "Copy of NaiveBayesClassifier.ipynb",
      "provenance": [],
      "authorship_tag": "ABX9TyOMmzLZbakmELfBqwgGi5xW",
      "include_colab_link": true
    },
    "kernelspec": {
      "name": "python3",
      "display_name": "Python 3"
    },
    "language_info": {
      "name": "python"
    }
  },
  "cells": [
    {
      "cell_type": "markdown",
      "metadata": {
        "id": "view-in-github",
        "colab_type": "text"
      },
      "source": [
        "<a href=\"https://colab.research.google.com/github/JackCollins1991/GoogleColabs/blob/NaiveBayesClassifer/NaiveBayesClassifier.ipynb\" target=\"_parent\"><img src=\"https://colab.research.google.com/assets/colab-badge.svg\" alt=\"Open In Colab\"/></a>"
      ]
    },
    {
      "cell_type": "code",
      "metadata": {
        "id": "VlmXILwFrd5x"
      },
      "source": [
        "import sklearn as sk\n",
        "\n",
        "from sklearn import preprocessing\n",
        "from sklearn.naive_bayes import GaussianNB\n",
        "from sklearn import datasets\n",
        "from sklearn.model_selection import train_test_split\n",
        "from sklearn import metrics"
      ],
      "execution_count": 2,
      "outputs": []
    },
    {
      "cell_type": "code",
      "metadata": {
        "id": "tJlM94ZPsdiX"
      },
      "source": [
        "#Load dataset\n",
        "wine = datasets.load_wine()"
      ],
      "execution_count": 3,
      "outputs": []
    },
    {
      "cell_type": "code",
      "metadata": {
        "colab": {
          "base_uri": "https://localhost:8080/"
        },
        "id": "HN05YBwpsgGJ",
        "outputId": "f38b0ab7-0865-4a46-bab5-9577627edea2"
      },
      "source": [
        "# print the names of the 13 features\n",
        "print (\"Features: \", wine.feature_names)\n",
        "# print the label type of wine(class_0, class_1, class_2)\n",
        "print (\"Labels: \", wine.target_names)"
      ],
      "execution_count": 17,
      "outputs": [
        {
          "output_type": "stream",
          "text": [
            "Features:  ['alcohol', 'malic_acid', 'ash', 'alcalinity_of_ash', 'magnesium', 'total_phenols', 'flavanoids', 'nonflavanoid_phenols', 'proanthocyanins', 'color_intensity', 'hue', 'od280/od315_of_diluted_wines', 'proline']\n",
            "Labels:  ['class_0' 'class_1' 'class_2']\n"
          ],
          "name": "stdout"
        }
      ]
    },
    {
      "cell_type": "code",
      "metadata": {
        "id": "N9a2eLWquCHd"
      },
      "source": [
        "def GaussianNaiveBayes(predictors, dependant, test_portion):\n",
        "  # Split dataset into training set and test set\n",
        "  X_train, X_test, y_train, y_test = train_test_split(predictors, dependant, test_size=test_portion,random_state=109) # 70% training and 30% test\n",
        "\n",
        "  #Create a Gaussian Classifier\n",
        "  gnb = GaussianNB()\n",
        "\n",
        "  #Train the model using the training sets\n",
        "  gnb.fit(X_train, y_train)\n",
        "\n",
        "  #Predict the response for test dataset\n",
        "  y_pred = gnb.predict(X_test)\n",
        "\n",
        "  return gnb\n"
      ],
      "execution_count": 12,
      "outputs": []
    },
    {
      "cell_type": "code",
      "metadata": {
        "id": "GrS_hBJ9xICS",
        "outputId": "9d67eb1b-86a3-49e8-a088-9361e03e6dc5",
        "colab": {
          "base_uri": "https://localhost:8080/"
        }
      },
      "source": [
        "gnb = GaussianNaiveBayes(wine.data, wine.target, 0.3)\n",
        "# Model Accuracy, how often is the classifier correct?\n",
        "print(\"Accuracy:\",metrics.accuracy_score(y_test, y_pred))"
      ],
      "execution_count": 16,
      "outputs": [
        {
          "output_type": "stream",
          "text": [
            "Accuracy: 0.9074074074074074\n"
          ],
          "name": "stdout"
        }
      ]
    }
  ]
}