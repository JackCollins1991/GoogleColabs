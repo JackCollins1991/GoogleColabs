{
  "nbformat": 4,
  "nbformat_minor": 0,
  "metadata": {
    "colab": {
      "name": "Copy of NaiveBayesClassifier.ipynb",
      "provenance": [],
      "authorship_tag": "ABX9TyMjbzmB7nBWTToea+9ysDnS",
      "include_colab_link": true
    },
    "kernelspec": {
      "name": "python3",
      "display_name": "Python 3"
    },
    "language_info": {
      "name": "python"
    }
  },
  "cells": [
    {
      "cell_type": "markdown",
      "metadata": {
        "id": "view-in-github",
        "colab_type": "text"
      },
      "source": [
        "<a href=\"https://colab.research.google.com/github/JackCollins1991/GoogleColabs/blob/NaiveBayesClassifer/NaiveBayesClassifier.ipynb\" target=\"_parent\"><img src=\"https://colab.research.google.com/assets/colab-badge.svg\" alt=\"Open In Colab\"/></a>"
      ]
    },
    {
      "cell_type": "code",
      "metadata": {
        "id": "VlmXILwFrd5x"
      },
      "source": [
        "import sklearn as sk\n",
        "import seaborn as sns\n",
        "from sklearn import preprocessing\n",
        "from sklearn.naive_bayes import GaussianNB\n",
        "from sklearn import datasets\n",
        "from sklearn.model_selection import train_test_split\n",
        "from sklearn import metrics"
      ],
      "execution_count": 22,
      "outputs": []
    },
    {
      "cell_type": "code",
      "metadata": {
        "id": "N9a2eLWquCHd"
      },
      "source": [
        "def GaussianNaiveBayes(predictors, dependant, test_portion):\n",
        "  # Split dataset into training set and test set\n",
        "  X_train, X_test, y_train, y_test = train_test_split(predictors, dependant, test_size=test_portion,random_state=109) # 70% training and 30% test\n",
        "\n",
        "  #Create a Gaussian Classifier\n",
        "  gnb = GaussianNB()\n",
        "\n",
        "  #Train the model using the training sets\n",
        "  gnb.fit(X_train, y_train)\n",
        "\n",
        "  #Predict the response for test dataset\n",
        "  y_pred = gnb.predict(X_test)\n",
        "\n",
        "  return gnb"
      ],
      "execution_count": 20,
      "outputs": []
    },
    {
      "cell_type": "code",
      "metadata": {
        "id": "3iL6JxfmyWM_",
        "outputId": "c4a19f63-fdb9-40fb-e4cc-5dafd3628c91",
        "colab": {
          "base_uri": "https://localhost:8080/"
        }
      },
      "source": [
        "# Get data\n",
        "data = sns.load_dataset(\"iris\")\n",
        "predictors = data.select_dtypes(include='number')\n",
        "dependant = data[\"species\"]\n",
        "\n",
        "# Apply model\n",
        "gnb = GaussianNaiveBayes(predictors, dependant, 0.3)\n",
        "\n",
        "# Evaluate\n",
        "print(\"Accuracy: \")\n",
        "gnb.score(predictors, dependant)"
      ],
      "execution_count": 36,
      "outputs": [
        {
          "output_type": "stream",
          "text": [
            "Accuracy: \n"
          ],
          "name": "stdout"
        },
        {
          "output_type": "execute_result",
          "data": {
            "text/plain": [
              "0.96"
            ]
          },
          "metadata": {
            "tags": []
          },
          "execution_count": 36
        }
      ]
    }
  ]
}