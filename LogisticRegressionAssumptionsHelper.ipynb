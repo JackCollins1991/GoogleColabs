{
  "nbformat": 4,
  "nbformat_minor": 0,
  "metadata": {
    "colab": {
      "name": "LogisticRegressionAssumptionsHelper.ipynb",
      "provenance": [],
      "collapsed_sections": [],
      "authorship_tag": "ABX9TyNJMajd3lQsSIfDhQI77e1N",
      "include_colab_link": true
    },
    "kernelspec": {
      "name": "python3",
      "display_name": "Python 3"
    },
    "language_info": {
      "name": "python"
    }
  },
  "cells": [
    {
      "cell_type": "markdown",
      "metadata": {
        "id": "view-in-github",
        "colab_type": "text"
      },
      "source": [
        "<a href=\"https://colab.research.google.com/github/JackCollins1991/GoogleColabs/blob/NaiveBayesClassifer/LogisticRegressionAssumptionsHelper.ipynb\" target=\"_parent\"><img src=\"https://colab.research.google.com/assets/colab-badge.svg\" alt=\"Open In Colab\"/></a>"
      ]
    },
    {
      "cell_type": "markdown",
      "metadata": {
        "id": "FquCfSxvkbRB"
      },
      "source": [
        "# Dependencies"
      ]
    },
    {
      "cell_type": "code",
      "metadata": {
        "id": "2_Db_msDH9gf",
        "colab": {
          "base_uri": "https://localhost:8080/"
        },
        "outputId": "fa08748f-afd4-4504-9573-229ea6e24efb"
      },
      "source": [
        "from copy import deepcopy\n",
        "!pip install factor_analyzer\n",
        "!pip install seaborn\n",
        "!pin install itertools\n",
        "\n",
        "import itertools as it\n",
        "\n",
        "import seaborn as sb\n",
        "import pandas as pd\n",
        "from factor_analyzer import FactorAnalyzer\n",
        "from factor_analyzer.factor_analyzer import calculate_kmo\n",
        "import matplotlib.pyplot as plt\n",
        "import numpy as np\n",
        "import scipy.stats\n",
        "import sklearn as sk\n",
        "from sklearn.linear_model import LinearRegression\n",
        "from sklearn.linear_model import LogisticRegression\n",
        "from sklearn.preprocessing import OneHotEncoder\n",
        "import statsmodels.api as sm\n",
        "from statsmodels.stats.outliers_influence import variance_inflation_factor\n",
        "\n",
        "pd.set_option('display.max_columns', None)"
      ],
      "execution_count": 5,
      "outputs": [
        {
          "output_type": "stream",
          "text": [
            "Requirement already satisfied: factor_analyzer in /usr/local/lib/python3.7/dist-packages (0.3.2)\n",
            "Requirement already satisfied: numpy in /usr/local/lib/python3.7/dist-packages (from factor_analyzer) (1.19.5)\n",
            "Requirement already satisfied: scipy in /usr/local/lib/python3.7/dist-packages (from factor_analyzer) (1.4.1)\n",
            "Requirement already satisfied: pandas in /usr/local/lib/python3.7/dist-packages (from factor_analyzer) (1.1.5)\n",
            "Requirement already satisfied: scikit-learn in /usr/local/lib/python3.7/dist-packages (from factor_analyzer) (0.22.2.post1)\n",
            "Requirement already satisfied: pytz>=2017.2 in /usr/local/lib/python3.7/dist-packages (from pandas->factor_analyzer) (2018.9)\n",
            "Requirement already satisfied: python-dateutil>=2.7.3 in /usr/local/lib/python3.7/dist-packages (from pandas->factor_analyzer) (2.8.1)\n",
            "Requirement already satisfied: joblib>=0.11 in /usr/local/lib/python3.7/dist-packages (from scikit-learn->factor_analyzer) (1.0.1)\n",
            "Requirement already satisfied: six>=1.5 in /usr/local/lib/python3.7/dist-packages (from python-dateutil>=2.7.3->pandas->factor_analyzer) (1.15.0)\n",
            "Requirement already satisfied: seaborn in /usr/local/lib/python3.7/dist-packages (0.11.1)\n",
            "Requirement already satisfied: scipy>=1.0 in /usr/local/lib/python3.7/dist-packages (from seaborn) (1.4.1)\n",
            "Requirement already satisfied: pandas>=0.23 in /usr/local/lib/python3.7/dist-packages (from seaborn) (1.1.5)\n",
            "Requirement already satisfied: numpy>=1.15 in /usr/local/lib/python3.7/dist-packages (from seaborn) (1.19.5)\n",
            "Requirement already satisfied: matplotlib>=2.2 in /usr/local/lib/python3.7/dist-packages (from seaborn) (3.2.2)\n",
            "Requirement already satisfied: python-dateutil>=2.7.3 in /usr/local/lib/python3.7/dist-packages (from pandas>=0.23->seaborn) (2.8.1)\n",
            "Requirement already satisfied: pytz>=2017.2 in /usr/local/lib/python3.7/dist-packages (from pandas>=0.23->seaborn) (2018.9)\n",
            "Requirement already satisfied: cycler>=0.10 in /usr/local/lib/python3.7/dist-packages (from matplotlib>=2.2->seaborn) (0.10.0)\n",
            "Requirement already satisfied: kiwisolver>=1.0.1 in /usr/local/lib/python3.7/dist-packages (from matplotlib>=2.2->seaborn) (1.3.1)\n",
            "Requirement already satisfied: pyparsing!=2.0.4,!=2.1.2,!=2.1.6,>=2.0.1 in /usr/local/lib/python3.7/dist-packages (from matplotlib>=2.2->seaborn) (2.4.7)\n",
            "Requirement already satisfied: six>=1.5 in /usr/local/lib/python3.7/dist-packages (from python-dateutil>=2.7.3->pandas>=0.23->seaborn) (1.15.0)\n",
            "/bin/bash: pin: command not found\n"
          ],
          "name": "stdout"
        }
      ]
    },
    {
      "cell_type": "markdown",
      "metadata": {
        "id": "ywbpjhtdkexF"
      },
      "source": [
        "# Functions"
      ]
    },
    {
      "cell_type": "code",
      "metadata": {
        "id": "t4SyovCXLYtI"
      },
      "source": [
        "def TestClassBalance(dependant):\n",
        "  p = plt.bar(dependant, height = max(dependant.value_counts()))\n",
        "  return p\n",
        "\n",
        "def TestLinearityAssumption(predictors):\n",
        "  \n",
        "  return \n",
        "\n",
        "def TestOutliers(predictors, z_threshold):\n",
        "  z_scores = scipy.stats.zscore(predictors)\n",
        "  outliers = (abs(z_scores) > z_threshold).all(axis=1)\n",
        "  return outliers\n",
        "\n",
        "def TestMulticollinearity(predictors):\n",
        "  vif_data = pd.DataFrame()\n",
        "  vif_data[\"feature\"] = predictors.columns\n",
        "  vif_data[\"VIF\"] = [variance_inflation_factor(predictors.values, i)\n",
        "  for i in range(len(predictors.columns))]\n",
        "\n",
        "  return vif_data\n",
        "\n",
        "def TestCorrelations(predictors):\n",
        "    heatmap = sb.heatmap(predictors.corr())\n",
        "    return heatmap\n"
      ],
      "execution_count": 6,
      "outputs": []
    },
    {
      "cell_type": "code",
      "metadata": {
        "id": "WM_scT1EfMCj"
      },
      "source": [
        "def LogisticRegressionScatterPlot(model, predictors, dependant, class_int = 0, color_class = 0):\n",
        "  weights = model.coef_[class_int]\n",
        "  x_values = model.intercept_[class_int] + predictors.dot(weights.T)\n",
        "  y_values = x_values > 0\n",
        "  y_values = y_values.astype(int)\n",
        "  actual_value = dependant\n",
        "  if color_class > 0:\n",
        "    actual_value = dependant == color_class\n",
        "    actual_value = actual_value.astype(int)\n",
        "\n",
        "  plot_table = pd.DataFrame()\n",
        "  plot_table[\"Prediction Function\"] = x_values\n",
        "  plot_table[\"Predicted Value\"] = y_values\n",
        "  plot_table[\"Actual Value\"] = actual_value\n",
        "\n",
        "  plot_table.plot.scatter(x = \"Prediction Function\", y = \"Predicted Value\", c = \"Actual Value\", colormap='viridis')\n",
        "  return\n",
        "\n",
        "\n",
        "\n"
      ],
      "execution_count": 7,
      "outputs": []
    },
    {
      "cell_type": "markdown",
      "metadata": {
        "id": "k2xJzYPXkqb1"
      },
      "source": [
        "# Example Logistic Regression Pipeline"
      ]
    },
    {
      "cell_type": "code",
      "metadata": {
        "id": "Gm_Rb7-1SHHK"
      },
      "source": [
        "# Get Data and seperate predictors and dependant variables\n",
        "data = sb.load_dataset(\"iris\")\n",
        "predictors = data.select_dtypes(include='number')\n",
        "dependant = data[\"species\"]"
      ],
      "execution_count": 8,
      "outputs": []
    },
    {
      "cell_type": "code",
      "metadata": {
        "id": "SJeVj2XQ1EWs",
        "colab": {
          "base_uri": "https://localhost:8080/",
          "height": 283
        },
        "outputId": "0cacf9b0-0838-4c4a-c1b2-44658bb29ff5"
      },
      "source": [
        "# Compare frequency in each class. A small count in a class means you should \n",
        "# avoid using accuracy as your model performance measure (ie use F1 instead)\n",
        "TestClassBalance(dependant)"
      ],
      "execution_count": 9,
      "outputs": [
        {
          "output_type": "execute_result",
          "data": {
            "text/plain": [
              "<BarContainer object of 150 artists>"
            ]
          },
          "metadata": {
            "tags": []
          },
          "execution_count": 9
        },
        {
          "output_type": "display_data",
          "data": {
            "image/png": "[encoded data removed]",
            "text/plain": [
              "<Figure size 432x288 with 1 Axes>"
            ]
          },
          "metadata": {
            "tags": [],
            "needs_background": "light"
          }
        }
      ]
    },
    {
      "cell_type": "code",
      "metadata": {
        "id": "R8RkbaYD1AMt",
        "colab": {
          "base_uri": "https://localhost:8080/",
          "height": 288
        },
        "outputId": "6ec723c4-b17a-4a80-8225-0f4701af229b"
      },
      "source": [
        "# Where two variables are highly correlated, you should remove one\n",
        "TestCorrelations(predictors)"
      ],
      "execution_count": 10,
      "outputs": [
        {
          "output_type": "execute_result",
          "data": {
            "text/plain": [
              "<matplotlib.axes._subplots.AxesSubplot at 0x7f4575145450>"
            ]
          },
          "metadata": {
            "tags": []
          },
          "execution_count": 10
        },
        {
          "output_type": "display_data",
          "data": {
            "image/png": "[encoded data removed]",
            "text/plain": [
              "<Figure size 432x288 with 2 Axes>"
            ]
          },
          "metadata": {
            "tags": [],
            "needs_background": "light"
          }
        }
      ]
    },
    {
      "cell_type": "code",
      "metadata": {
        "id": "cDebzfY_1AVl",
        "colab": {
          "base_uri": "https://localhost:8080/",
          "height": 164
        },
        "outputId": "d5ce671c-8fc7-4c43-9dab-645ba7a3e360"
      },
      "source": [
        "# As you remove correlated items, check VIF, ideally all VIFs are below 5\n",
        "TestMulticollinearity(predictors)"
      ],
      "execution_count": 11,
      "outputs": [
        {
          "output_type": "execute_result",
          "data": {
            "text/html": [
              "<div>\n",
              "<style scoped>\n",
              "    .dataframe tbody tr th:only-of-type {\n",
              "        vertical-align: middle;\n",
              "    }\n",
              "\n",
              "    .dataframe tbody tr th {\n",
              "        vertical-align: top;\n",
              "    }\n",
              "\n",
              "    .dataframe thead th {\n",
              "        text-align: right;\n",
              "    }\n",
              "</style>\n",
              "<table border=\"1\" class=\"dataframe\">\n",
              "  <thead>\n",
              "    <tr style=\"text-align: right;\">\n",
              "      <th></th>\n",
              "      <th>feature</th>\n",
              "      <th>VIF</th>\n",
              "    </tr>\n",
              "  </thead>\n",
              "  <tbody>\n",
              "    <tr>\n",
              "      <th>0</th>\n",
              "      <td>sepal_length</td>\n",
              "      <td>262.969348</td>\n",
              "    </tr>\n",
              "    <tr>\n",
              "      <th>1</th>\n",
              "      <td>sepal_width</td>\n",
              "      <td>96.353292</td>\n",
              "    </tr>\n",
              "    <tr>\n",
              "      <th>2</th>\n",
              "      <td>petal_length</td>\n",
              "      <td>172.960962</td>\n",
              "    </tr>\n",
              "    <tr>\n",
              "      <th>3</th>\n",
              "      <td>petal_width</td>\n",
              "      <td>55.502060</td>\n",
              "    </tr>\n",
              "  </tbody>\n",
              "</table>\n",
              "</div>"
            ],
            "text/plain": [
              "        feature         VIF\n",
              "0  sepal_length  262.969348\n",
              "1   sepal_width   96.353292\n",
              "2  petal_length  172.960962\n",
              "3   petal_width   55.502060"
            ]
          },
          "metadata": {
            "tags": []
          },
          "execution_count": 11
        }
      ]
    },
    {
      "cell_type": "code",
      "metadata": {
        "id": "Q2uBqF3hOjHM",
        "colab": {
          "base_uri": "https://localhost:8080/",
          "height": 460
        },
        "outputId": "2bcf8983-bc0e-4934-d71d-f64a55c66bed"
      },
      "source": [
        "# Use boxplot to visualise outliers\n",
        "# Use different z thresholds to eliminate outliers. \n",
        "\n",
        "predictors.boxplot()\n",
        "outlier_cases = predictors[TestOutliers(predictors, z_threshold = 1.1)]\n",
        "\n",
        "print(\"Outlier cases are:\")\n",
        "outlier_cases"
      ],
      "execution_count": 12,
      "outputs": [
        {
          "output_type": "stream",
          "text": [
            "Outlier cases are:\n"
          ],
          "name": "stdout"
        },
        {
          "output_type": "execute_result",
          "data": {
            "text/html": [
              "<div>\n",
              "<style scoped>\n",
              "    .dataframe tbody tr th:only-of-type {\n",
              "        vertical-align: middle;\n",
              "    }\n",
              "\n",
              "    .dataframe tbody tr th {\n",
              "        vertical-align: top;\n",
              "    }\n",
              "\n",
              "    .dataframe thead th {\n",
              "        text-align: right;\n",
              "    }\n",
              "</style>\n",
              "<table border=\"1\" class=\"dataframe\">\n",
              "  <thead>\n",
              "    <tr style=\"text-align: right;\">\n",
              "      <th></th>\n",
              "      <th>sepal_length</th>\n",
              "      <th>sepal_width</th>\n",
              "      <th>petal_length</th>\n",
              "      <th>petal_width</th>\n",
              "    </tr>\n",
              "  </thead>\n",
              "  <tbody>\n",
              "    <tr>\n",
              "      <th>22</th>\n",
              "      <td>4.6</td>\n",
              "      <td>3.6</td>\n",
              "      <td>1.0</td>\n",
              "      <td>0.2</td>\n",
              "    </tr>\n",
              "    <tr>\n",
              "      <th>37</th>\n",
              "      <td>4.9</td>\n",
              "      <td>3.6</td>\n",
              "      <td>1.4</td>\n",
              "      <td>0.1</td>\n",
              "    </tr>\n",
              "    <tr>\n",
              "      <th>41</th>\n",
              "      <td>4.5</td>\n",
              "      <td>2.3</td>\n",
              "      <td>1.3</td>\n",
              "      <td>0.3</td>\n",
              "    </tr>\n",
              "    <tr>\n",
              "      <th>109</th>\n",
              "      <td>7.2</td>\n",
              "      <td>3.6</td>\n",
              "      <td>6.1</td>\n",
              "      <td>2.5</td>\n",
              "    </tr>\n",
              "    <tr>\n",
              "      <th>117</th>\n",
              "      <td>7.7</td>\n",
              "      <td>3.8</td>\n",
              "      <td>6.7</td>\n",
              "      <td>2.2</td>\n",
              "    </tr>\n",
              "  </tbody>\n",
              "</table>\n",
              "</div>"
            ],
            "text/plain": [
              "     sepal_length  sepal_width  petal_length  petal_width\n",
              "22            4.6          3.6           1.0          0.2\n",
              "37            4.9          3.6           1.4          0.1\n",
              "41            4.5          2.3           1.3          0.3\n",
              "109           7.2          3.6           6.1          2.5\n",
              "117           7.7          3.8           6.7          2.2"
            ]
          },
          "metadata": {
            "tags": []
          },
          "execution_count": 12
        },
        {
          "output_type": "display_data",
          "data": {
            "image/png": "[encoded data removed]",
            "text/plain": [
              "<Figure size 432x288 with 1 Axes>"
            ]
          },
          "metadata": {
            "tags": [],
            "needs_background": "light"
          }
        }
      ]
    },
    {
      "cell_type": "code",
      "metadata": {
        "colab": {
          "base_uri": "https://localhost:8080/"
        },
        "id": "AYnVo3fyBtLh",
        "outputId": "84ea1b41-5e22-4b14-82bf-f1f54ead729c"
      },
      "source": [
        "\n",
        "# In thi example we fit a binary logistic regression which is clasifying if\n",
        "# the case is a 'setosa' type iris or not. \n",
        "\n",
        "dependant_one_hot = dependant == 'setosa'\n",
        "dependant_one_hot = dependant_one_hot.astype(int)\n",
        "x_train, x_test, y_train, y_test = sk.model_selection.train_test_split(predictors, dependant_one_hot, test_size=0.2, random_state=42)\n",
        "\n",
        "#Train the model\n",
        "model = LogisticRegression()\n",
        "model.fit(x_train, y_train) #Training the model\n",
        "predictions = model.predict(x_test)\n",
        "\n",
        "#Check precision, recall, f1-score\n",
        "print( sk.metrics.classification_report(y_test, predictions) )\n",
        "\n",
        "print( sk.metrics.accuracy_score(y_test, predictions))\n"
      ],
      "execution_count": 13,
      "outputs": [
        {
          "output_type": "stream",
          "text": [
            "              precision    recall  f1-score   support\n",
            "\n",
            "           0       1.00      1.00      1.00        20\n",
            "           1       1.00      1.00      1.00        10\n",
            "\n",
            "    accuracy                           1.00        30\n",
            "   macro avg       1.00      1.00      1.00        30\n",
            "weighted avg       1.00      1.00      1.00        30\n",
            "\n",
            "1.0\n"
          ],
          "name": "stdout"
        }
      ]
    },
    {
      "cell_type": "code",
      "metadata": {
        "id": "b-hRss1_kRxC",
        "colab": {
          "base_uri": "https://localhost:8080/",
          "height": 258
        },
        "outputId": "4f9bb183-6d7c-4a06-97a1-8d233c8ab027"
      },
      "source": [
        "# Produce a simple visualisation to describe the decision boundary.\n",
        "# An x axis value above 0 indicates the logistic regression modwl \n",
        "# would predict a positive class. The predicted vaulues can be compared \n",
        "# against the actual values indicated by the color.\n",
        " \n",
        "LogisticRegressionScatterPlot(model, predictors, dependant_one_hot, class_int=0, color_class=1)"
      ],
      "execution_count": 14,
      "outputs": [
        {
          "output_type": "display_data",
          "data": {
            "image/png": "[encoded data removed]",
            "text/plain": [
              "<Figure size 432x288 with 2 Axes>"
            ]
          },
          "metadata": {
            "tags": [],
            "needs_background": "light"
          }
        }
      ]
    }
  ]
}