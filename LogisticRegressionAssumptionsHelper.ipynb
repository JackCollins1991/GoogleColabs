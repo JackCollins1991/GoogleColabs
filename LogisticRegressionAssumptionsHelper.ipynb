{
  "nbformat": 4,
  "nbformat_minor": 0,
  "metadata": {
    "colab": {
      "name": "LogisticRegressionAssumptionsHelper.ipynb",
      "provenance": [],
      "collapsed_sections": [],
      "authorship_tag": "ABX9TyN/aD9tqsjPM5xiP2+rZEBW",
      "include_colab_link": true
    },
    "kernelspec": {
      "name": "python3",
      "display_name": "Python 3"
    },
    "language_info": {
      "name": "python"
    }
  },
  "cells": [
    {
      "cell_type": "markdown",
      "metadata": {
        "id": "view-in-github",
        "colab_type": "text"
      },
      "source": [
        "<a href=\"https://colab.research.google.com/github/JackCollins1991/GoogleColabs/blob/LogisticRegressionAssumptions/LogisticRegressionAssumptionsHelper.ipynb\" target=\"_parent\"><img src=\"https://colab.research.google.com/assets/colab-badge.svg\" alt=\"Open In Colab\"/></a>"
      ]
    },
    {
      "cell_type": "code",
      "metadata": {
        "id": "2_Db_msDH9gf"
      },
      "source": [
        "from copy import deepcopy\n",
        "!pip install factor_analyzer\n",
        "\n",
        "import pandas as pd\n",
        "from factor_analyzer import FactorAnalyzer\n",
        "from factor_analyzer.factor_analyzer import calculate_kmo\n",
        "import matplotlib.pyplot as plt\n",
        "import numpy as np\n",
        "import scipy.stats\n",
        "from sklearn.linear_model import LinearRegression\n",
        "from sklearn.preprocessing import OneHotEncoder\n",
        "import statsmodels.api as sm\n",
        "\n",
        "pd.set_option('display.max_columns', None)"
      ],
      "execution_count": null,
      "outputs": []
    },
    {
      "cell_type": "code",
      "metadata": {
        "id": "MrmrRHFWLcKS"
      },
      "source": [
        "class LogisticRegressionAssumptionsTestSummary:\n",
        "  x = 1\n"
      ],
      "execution_count": 5,
      "outputs": []
    },
    {
      "cell_type": "code",
      "metadata": {
        "id": "t4SyovCXLYtI"
      },
      "source": [
        "def LogisticRegressionAssumptionsTest(predictors, dependant):\n",
        "  ## http://www.sthda.com/english/articles/36-classification-methods-essentials/148-logistic-regression-assumptions-and-diagnostics-in-r/\n",
        "  # Bar plots the number of cases of each type in the dependant variable\n",
        "\tTestClassBalance(dependant, positive)\n",
        "\tTestLinearityAssumption(predictors)\n",
        "\tTestInfluentialValues(predictors)\n",
        "\tTestMulticollinearity(predictors)\n",
        "  return\n",
        "\n",
        "\n",
        "def TestClassBalance(dependant, positive):\n",
        "\n",
        "  return\n",
        "\n",
        "def TestLinearityAssumption(predictors):\n",
        "\n",
        "  return\n",
        "\n",
        "def TestInfluentialValues(predictors):\n",
        "\n",
        "  return\n",
        "\n",
        "def TestMulticollinearity(predictors):\n",
        "\n",
        "  return\n"
      ],
      "execution_count": 10,
      "outputs": []
    },
    {
      "cell_type": "code",
      "metadata": {
        "id": "Q2uBqF3hOjHM"
      },
      "source": [
        ""
      ],
      "execution_count": null,
      "outputs": []
    }
  ]
}